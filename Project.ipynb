{
 "cells": [
  {
   "cell_type": "code",
   "execution_count": 1,
   "id": "270f534a",
   "metadata": {},
   "outputs": [],
   "source": [
    "import numpy as np\n",
    "import pandas as pd\n",
    "import seaborn as sns\n",
    "import matplotlib.pyplot as plt\n",
    "import scipy\n",
    "#from scipy import stats\n",
    "#from scipy.optimize import curve_fit"
   ]
  },
  {
   "cell_type": "code",
   "execution_count": 2,
   "id": "cbfeca67",
   "metadata": {},
   "outputs": [
    {
     "data": {
      "text/html": [
       "<div>\n",
       "<style scoped>\n",
       "    .dataframe tbody tr th:only-of-type {\n",
       "        vertical-align: middle;\n",
       "    }\n",
       "\n",
       "    .dataframe tbody tr th {\n",
       "        vertical-align: top;\n",
       "    }\n",
       "\n",
       "    .dataframe thead th {\n",
       "        text-align: right;\n",
       "    }\n",
       "</style>\n",
       "<table border=\"1\" class=\"dataframe\">\n",
       "  <thead>\n",
       "    <tr style=\"text-align: right;\">\n",
       "      <th></th>\n",
       "      <th>County</th>\n",
       "      <th>County Code</th>\n",
       "      <th>Population</th>\n",
       "      <th>Deaths</th>\n",
       "      <th>Rate</th>\n",
       "    </tr>\n",
       "  </thead>\n",
       "  <tbody>\n",
       "    <tr>\n",
       "      <th>0</th>\n",
       "      <td>Ada County, ID</td>\n",
       "      <td>16001.0</td>\n",
       "      <td>469966.0</td>\n",
       "      <td>86.0</td>\n",
       "      <td>18.299196</td>\n",
       "    </tr>\n",
       "    <tr>\n",
       "      <th>1</th>\n",
       "      <td>Adams County, CO</td>\n",
       "      <td>8001.0</td>\n",
       "      <td>511868.0</td>\n",
       "      <td>79.0</td>\n",
       "      <td>15.433666</td>\n",
       "    </tr>\n",
       "    <tr>\n",
       "      <th>2</th>\n",
       "      <td>Adams County, PA</td>\n",
       "      <td>42001.0</td>\n",
       "      <td>102811.0</td>\n",
       "      <td>12.0</td>\n",
       "      <td>11.671903</td>\n",
       "    </tr>\n",
       "    <tr>\n",
       "      <th>3</th>\n",
       "      <td>Aiken County, SC</td>\n",
       "      <td>45003.0</td>\n",
       "      <td>169401.0</td>\n",
       "      <td>25.0</td>\n",
       "      <td>14.757882</td>\n",
       "    </tr>\n",
       "    <tr>\n",
       "      <th>4</th>\n",
       "      <td>Alachua County, FL</td>\n",
       "      <td>12001.0</td>\n",
       "      <td>269956.0</td>\n",
       "      <td>33.0</td>\n",
       "      <td>12.224214</td>\n",
       "    </tr>\n",
       "  </tbody>\n",
       "</table>\n",
       "</div>"
      ],
      "text/plain": [
       "               County  County Code  Population  Deaths       Rate\n",
       "0      Ada County, ID      16001.0    469966.0    86.0  18.299196\n",
       "1    Adams County, CO       8001.0    511868.0    79.0  15.433666\n",
       "2    Adams County, PA      42001.0    102811.0    12.0  11.671903\n",
       "3    Aiken County, SC      45003.0    169401.0    25.0  14.757882\n",
       "4  Alachua County, FL      12001.0    269956.0    33.0  12.224214"
      ]
     },
     "execution_count": 2,
     "metadata": {},
     "output_type": "execute_result"
    }
   ],
   "source": [
    "suicide = pd.read_csv('county-suicide.csv')\n",
    "suicide2 = suicide.groupby(['County', 'County Code','Population'], as_index=False).agg({'Deaths':'sum'})\n",
    "suicide2['Rate'] = suicide2['Deaths'] / suicide2['Population'] * 100000\n",
    "suicide2.head()"
   ]
  },
  {
   "cell_type": "code",
   "execution_count": null,
   "id": "835e032d",
   "metadata": {},
   "outputs": [],
   "source": []
  },
  {
   "cell_type": "code",
   "execution_count": 3,
   "id": "ba415224",
   "metadata": {},
   "outputs": [
    {
     "data": {
      "text/html": [
       "<div>\n",
       "<style scoped>\n",
       "    .dataframe tbody tr th:only-of-type {\n",
       "        vertical-align: middle;\n",
       "    }\n",
       "\n",
       "    .dataframe tbody tr th {\n",
       "        vertical-align: top;\n",
       "    }\n",
       "\n",
       "    .dataframe thead th {\n",
       "        text-align: right;\n",
       "    }\n",
       "</style>\n",
       "<table border=\"1\" class=\"dataframe\">\n",
       "  <thead>\n",
       "    <tr style=\"text-align: right;\">\n",
       "      <th></th>\n",
       "      <th>NAME</th>\n",
       "      <th>STATE_NAME</th>\n",
       "      <th>FIPS</th>\n",
       "      <th>MEAN</th>\n",
       "    </tr>\n",
       "  </thead>\n",
       "  <tbody>\n",
       "    <tr>\n",
       "      <th>0</th>\n",
       "      <td>Lauderdale</td>\n",
       "      <td>Alabama</td>\n",
       "      <td>1077</td>\n",
       "      <td>194.816228</td>\n",
       "    </tr>\n",
       "    <tr>\n",
       "      <th>1</th>\n",
       "      <td>Limestone</td>\n",
       "      <td>Alabama</td>\n",
       "      <td>1083</td>\n",
       "      <td>210.340331</td>\n",
       "    </tr>\n",
       "    <tr>\n",
       "      <th>2</th>\n",
       "      <td>Madison</td>\n",
       "      <td>Alabama</td>\n",
       "      <td>1089</td>\n",
       "      <td>242.428242</td>\n",
       "    </tr>\n",
       "    <tr>\n",
       "      <th>3</th>\n",
       "      <td>Jackson</td>\n",
       "      <td>Alabama</td>\n",
       "      <td>1071</td>\n",
       "      <td>320.258370</td>\n",
       "    </tr>\n",
       "    <tr>\n",
       "      <th>4</th>\n",
       "      <td>Colbert</td>\n",
       "      <td>Alabama</td>\n",
       "      <td>1033</td>\n",
       "      <td>179.550851</td>\n",
       "    </tr>\n",
       "  </tbody>\n",
       "</table>\n",
       "</div>"
      ],
      "text/plain": [
       "         NAME STATE_NAME  FIPS        MEAN\n",
       "0  Lauderdale    Alabama  1077  194.816228\n",
       "1   Limestone    Alabama  1083  210.340331\n",
       "2     Madison    Alabama  1089  242.428242\n",
       "3     Jackson    Alabama  1071  320.258370\n",
       "4     Colbert    Alabama  1033  179.550851"
      ]
     },
     "execution_count": 3,
     "metadata": {},
     "output_type": "execute_result"
    }
   ],
   "source": [
    "elevation = pd.read_csv('county-elevation.csv')\n",
    "elevation2 = elevation[['NAME','STATE_NAME','FIPS','MEAN']]\n",
    "elevation2.head()"
   ]
  },
  {
   "cell_type": "code",
   "execution_count": 4,
   "id": "54e12faa",
   "metadata": {},
   "outputs": [
    {
     "data": {
      "text/html": [
       "<div>\n",
       "<style scoped>\n",
       "    .dataframe tbody tr th:only-of-type {\n",
       "        vertical-align: middle;\n",
       "    }\n",
       "\n",
       "    .dataframe tbody tr th {\n",
       "        vertical-align: top;\n",
       "    }\n",
       "\n",
       "    .dataframe thead th {\n",
       "        text-align: right;\n",
       "    }\n",
       "</style>\n",
       "<table border=\"1\" class=\"dataframe\">\n",
       "  <thead>\n",
       "    <tr style=\"text-align: right;\">\n",
       "      <th></th>\n",
       "      <th>GEOID</th>\n",
       "      <th>NAME</th>\n",
       "      <th>State</th>\n",
       "      <th>B01001_calc_PopDensity</th>\n",
       "    </tr>\n",
       "  </thead>\n",
       "  <tbody>\n",
       "    <tr>\n",
       "      <th>0</th>\n",
       "      <td>1001</td>\n",
       "      <td>Autauga County</td>\n",
       "      <td>Alabama</td>\n",
       "      <td>35.853419</td>\n",
       "    </tr>\n",
       "    <tr>\n",
       "      <th>1</th>\n",
       "      <td>1003</td>\n",
       "      <td>Baldwin County</td>\n",
       "      <td>Alabama</td>\n",
       "      <td>50.541504</td>\n",
       "    </tr>\n",
       "    <tr>\n",
       "      <th>2</th>\n",
       "      <td>1005</td>\n",
       "      <td>Barbour County</td>\n",
       "      <td>Alabama</td>\n",
       "      <td>11.247981</td>\n",
       "    </tr>\n",
       "    <tr>\n",
       "      <th>3</th>\n",
       "      <td>1007</td>\n",
       "      <td>Bibb County</td>\n",
       "      <td>Alabama</td>\n",
       "      <td>13.973114</td>\n",
       "    </tr>\n",
       "    <tr>\n",
       "      <th>4</th>\n",
       "      <td>1009</td>\n",
       "      <td>Blount County</td>\n",
       "      <td>Alabama</td>\n",
       "      <td>34.515816</td>\n",
       "    </tr>\n",
       "  </tbody>\n",
       "</table>\n",
       "</div>"
      ],
      "text/plain": [
       "   GEOID            NAME    State  B01001_calc_PopDensity\n",
       "0   1001  Autauga County  Alabama               35.853419\n",
       "1   1003  Baldwin County  Alabama               50.541504\n",
       "2   1005  Barbour County  Alabama               11.247981\n",
       "3   1007     Bibb County  Alabama               13.973114\n",
       "4   1009   Blount County  Alabama               34.515816"
      ]
     },
     "execution_count": 4,
     "metadata": {},
     "output_type": "execute_result"
    }
   ],
   "source": [
    "density = pd.read_csv('county-popdensity.csv')\n",
    "density2 = density[['GEOID','NAME','State','B01001_calc_PopDensity']]\n",
    "density2.head()"
   ]
  },
  {
   "cell_type": "code",
   "execution_count": 5,
   "id": "7902aaa7",
   "metadata": {},
   "outputs": [
    {
     "data": {
      "text/html": [
       "<div>\n",
       "<style scoped>\n",
       "    .dataframe tbody tr th:only-of-type {\n",
       "        vertical-align: middle;\n",
       "    }\n",
       "\n",
       "    .dataframe tbody tr th {\n",
       "        vertical-align: top;\n",
       "    }\n",
       "\n",
       "    .dataframe thead th {\n",
       "        text-align: right;\n",
       "    }\n",
       "</style>\n",
       "<table border=\"1\" class=\"dataframe\">\n",
       "  <thead>\n",
       "    <tr style=\"text-align: right;\">\n",
       "      <th></th>\n",
       "      <th>County</th>\n",
       "      <th>County Code</th>\n",
       "      <th>Population</th>\n",
       "      <th>Deaths</th>\n",
       "      <th>Suicide Rate</th>\n",
       "      <th>NAME</th>\n",
       "      <th>STATE_NAME</th>\n",
       "      <th>FIPS</th>\n",
       "      <th>Mean County Elevation</th>\n",
       "    </tr>\n",
       "  </thead>\n",
       "  <tbody>\n",
       "    <tr>\n",
       "      <th>0</th>\n",
       "      <td>Ada County, ID</td>\n",
       "      <td>16001.0</td>\n",
       "      <td>469966.0</td>\n",
       "      <td>86.0</td>\n",
       "      <td>18.299196</td>\n",
       "      <td>Ada</td>\n",
       "      <td>Idaho</td>\n",
       "      <td>16001</td>\n",
       "      <td>936.833984</td>\n",
       "    </tr>\n",
       "    <tr>\n",
       "      <th>1</th>\n",
       "      <td>Adams County, CO</td>\n",
       "      <td>8001.0</td>\n",
       "      <td>511868.0</td>\n",
       "      <td>79.0</td>\n",
       "      <td>15.433666</td>\n",
       "      <td>Adams</td>\n",
       "      <td>Colorado</td>\n",
       "      <td>8001</td>\n",
       "      <td>1550.924198</td>\n",
       "    </tr>\n",
       "    <tr>\n",
       "      <th>2</th>\n",
       "      <td>Adams County, PA</td>\n",
       "      <td>42001.0</td>\n",
       "      <td>102811.0</td>\n",
       "      <td>12.0</td>\n",
       "      <td>11.671903</td>\n",
       "      <td>Adams</td>\n",
       "      <td>Pennsylvania</td>\n",
       "      <td>42001</td>\n",
       "      <td>230.943560</td>\n",
       "    </tr>\n",
       "    <tr>\n",
       "      <th>3</th>\n",
       "      <td>Aiken County, SC</td>\n",
       "      <td>45003.0</td>\n",
       "      <td>169401.0</td>\n",
       "      <td>25.0</td>\n",
       "      <td>14.757882</td>\n",
       "      <td>Aiken</td>\n",
       "      <td>South Carolina</td>\n",
       "      <td>45003</td>\n",
       "      <td>110.527337</td>\n",
       "    </tr>\n",
       "    <tr>\n",
       "      <th>4</th>\n",
       "      <td>Alachua County, FL</td>\n",
       "      <td>12001.0</td>\n",
       "      <td>269956.0</td>\n",
       "      <td>33.0</td>\n",
       "      <td>12.224214</td>\n",
       "      <td>Alachua</td>\n",
       "      <td>Florida</td>\n",
       "      <td>12001</td>\n",
       "      <td>31.285043</td>\n",
       "    </tr>\n",
       "  </tbody>\n",
       "</table>\n",
       "</div>"
      ],
      "text/plain": [
       "               County  County Code  Population  Deaths  Suicide Rate     NAME  \\\n",
       "0      Ada County, ID      16001.0    469966.0    86.0     18.299196      Ada   \n",
       "1    Adams County, CO       8001.0    511868.0    79.0     15.433666    Adams   \n",
       "2    Adams County, PA      42001.0    102811.0    12.0     11.671903    Adams   \n",
       "3    Aiken County, SC      45003.0    169401.0    25.0     14.757882    Aiken   \n",
       "4  Alachua County, FL      12001.0    269956.0    33.0     12.224214  Alachua   \n",
       "\n",
       "       STATE_NAME   FIPS  Mean County Elevation  \n",
       "0           Idaho  16001             936.833984  \n",
       "1        Colorado   8001            1550.924198  \n",
       "2    Pennsylvania  42001             230.943560  \n",
       "3  South Carolina  45003             110.527337  \n",
       "4         Florida  12001              31.285043  "
      ]
     },
     "execution_count": 5,
     "metadata": {},
     "output_type": "execute_result"
    }
   ],
   "source": [
    "suicide_elevation = pd.merge(suicide2, elevation2, left_on='County Code', right_on='FIPS')\n",
    "ele=suicide_elevation.rename(columns={\"Rate\": \"Suicide Rate\", \"MEAN\": \"Mean County Elevation\"})\n",
    "ele.head()"
   ]
  },
  {
   "cell_type": "code",
   "execution_count": 6,
   "id": "07c93158",
   "metadata": {},
   "outputs": [
    {
     "data": {
      "image/png": "[encoded data removed]",
      "text/plain": [
       "<Figure size 432x288 with 1 Axes>"
      ]
     },
     "metadata": {
      "needs_background": "light"
     },
     "output_type": "display_data"
    }
   ],
   "source": [
    "sns.boxplot(data=ele, x='Mean County Elevation')\n",
    "plt.xscale('log')"
   ]
  },
  {
   "cell_type": "code",
   "execution_count": 17,
   "id": "1ff657f9",
   "metadata": {},
   "outputs": [
    {
     "name": "stdout",
     "output_type": "stream",
     "text": [
      "y = 0.00458401539515684x + 9.855493579526161\n"
     ]
    },
    {
     "data": {
      "image/png": "[encoded data removed]",
      "text/plain": [
       "<Figure size 432x288 with 1 Axes>"
      ]
     },
     "metadata": {
      "needs_background": "light"
     },
     "output_type": "display_data"
    }
   ],
   "source": [
    "p = sns.regplot(data=ele, x='Mean County Elevation', y='Suicide Rate', ci=None, \n",
    "           scatter_kws={\"color\": \"black\"}, line_kws={\"color\": \"red\"})\n",
    "\n",
    "slope, intercept, r, p, sterr = scipy.stats.linregress(x=p.get_lines()[0].get_xdata(),\n",
    "                                                       y=p.get_lines()[0].get_ydata())\n",
    "print('y = ' + str(slope) + 'x + ' + str(intercept))"
   ]
  },
  {
   "cell_type": "code",
   "execution_count": 18,
   "id": "2d6e1c7d",
   "metadata": {},
   "outputs": [
    {
     "data": {
      "text/html": [
       "<div>\n",
       "<style scoped>\n",
       "    .dataframe tbody tr th:only-of-type {\n",
       "        vertical-align: middle;\n",
       "    }\n",
       "\n",
       "    .dataframe tbody tr th {\n",
       "        vertical-align: top;\n",
       "    }\n",
       "\n",
       "    .dataframe thead th {\n",
       "        text-align: right;\n",
       "    }\n",
       "</style>\n",
       "<table border=\"1\" class=\"dataframe\">\n",
       "  <thead>\n",
       "    <tr style=\"text-align: right;\">\n",
       "      <th></th>\n",
       "      <th>County</th>\n",
       "      <th>County Code</th>\n",
       "      <th>Population</th>\n",
       "      <th>Deaths</th>\n",
       "      <th>Suicide Rate</th>\n",
       "      <th>GEOID</th>\n",
       "      <th>NAME</th>\n",
       "      <th>State</th>\n",
       "      <th>County Population Density</th>\n",
       "    </tr>\n",
       "  </thead>\n",
       "  <tbody>\n",
       "    <tr>\n",
       "      <th>0</th>\n",
       "      <td>Ada County, ID</td>\n",
       "      <td>16001.0</td>\n",
       "      <td>469966.0</td>\n",
       "      <td>86.0</td>\n",
       "      <td>18.299196</td>\n",
       "      <td>16001</td>\n",
       "      <td>Ada County</td>\n",
       "      <td>Idaho</td>\n",
       "      <td>163.707537</td>\n",
       "    </tr>\n",
       "    <tr>\n",
       "      <th>1</th>\n",
       "      <td>Adams County, CO</td>\n",
       "      <td>8001.0</td>\n",
       "      <td>511868.0</td>\n",
       "      <td>79.0</td>\n",
       "      <td>15.433666</td>\n",
       "      <td>8001</td>\n",
       "      <td>Adams County</td>\n",
       "      <td>Colorado</td>\n",
       "      <td>164.575308</td>\n",
       "    </tr>\n",
       "    <tr>\n",
       "      <th>2</th>\n",
       "      <td>Adams County, PA</td>\n",
       "      <td>42001.0</td>\n",
       "      <td>102811.0</td>\n",
       "      <td>12.0</td>\n",
       "      <td>11.671903</td>\n",
       "      <td>42001</td>\n",
       "      <td>Adams County</td>\n",
       "      <td>Pennsylvania</td>\n",
       "      <td>75.933457</td>\n",
       "    </tr>\n",
       "    <tr>\n",
       "      <th>3</th>\n",
       "      <td>Aiken County, SC</td>\n",
       "      <td>45003.0</td>\n",
       "      <td>169401.0</td>\n",
       "      <td>25.0</td>\n",
       "      <td>14.757882</td>\n",
       "      <td>45003</td>\n",
       "      <td>Aiken County</td>\n",
       "      <td>South Carolina</td>\n",
       "      <td>60.199841</td>\n",
       "    </tr>\n",
       "    <tr>\n",
       "      <th>4</th>\n",
       "      <td>Alachua County, FL</td>\n",
       "      <td>12001.0</td>\n",
       "      <td>269956.0</td>\n",
       "      <td>33.0</td>\n",
       "      <td>12.224214</td>\n",
       "      <td>12001</td>\n",
       "      <td>Alachua County</td>\n",
       "      <td>Florida</td>\n",
       "      <td>116.112210</td>\n",
       "    </tr>\n",
       "  </tbody>\n",
       "</table>\n",
       "</div>"
      ],
      "text/plain": [
       "               County  County Code  Population  Deaths  Suicide Rate  GEOID  \\\n",
       "0      Ada County, ID      16001.0    469966.0    86.0     18.299196  16001   \n",
       "1    Adams County, CO       8001.0    511868.0    79.0     15.433666   8001   \n",
       "2    Adams County, PA      42001.0    102811.0    12.0     11.671903  42001   \n",
       "3    Aiken County, SC      45003.0    169401.0    25.0     14.757882  45003   \n",
       "4  Alachua County, FL      12001.0    269956.0    33.0     12.224214  12001   \n",
       "\n",
       "             NAME           State  County Population Density  \n",
       "0      Ada County           Idaho                 163.707537  \n",
       "1    Adams County        Colorado                 164.575308  \n",
       "2    Adams County    Pennsylvania                  75.933457  \n",
       "3    Aiken County  South Carolina                  60.199841  \n",
       "4  Alachua County         Florida                 116.112210  "
      ]
     },
     "execution_count": 18,
     "metadata": {},
     "output_type": "execute_result"
    }
   ],
   "source": [
    "suicide_density = pd.merge(suicide2, density2, left_on='County Code', right_on='GEOID')\n",
    "pod = suicide_density.rename(columns={\"Rate\": \"Suicide Rate\", \"B01001_calc_PopDensity\": \"County Population Density\"})\n",
    "pod.head()"
   ]
  },
  {
   "cell_type": "code",
   "execution_count": 19,
   "id": "af3cf577",
   "metadata": {},
   "outputs": [
    {
     "data": {
      "image/png": "[encoded data removed]",
      "text/plain": [
       "<Figure size 432x288 with 1 Axes>"
      ]
     },
     "metadata": {
      "needs_background": "light"
     },
     "output_type": "display_data"
    }
   ],
   "source": [
    "sns.boxplot(data=pod, x='County Population Density')\n",
    "plt.xscale('log')"
   ]
  },
  {
   "cell_type": "code",
   "execution_count": 23,
   "id": "4373c56d",
   "metadata": {
    "scrolled": true
   },
   "outputs": [
    {
     "data": {
      "text/plain": [
       "<seaborn.axisgrid.FacetGrid at 0x7fce709044c0>"
      ]
     },
     "execution_count": 23,
     "metadata": {},
     "output_type": "execute_result"
    },
    {
     "data": {
      "image/png": "[encoded data removed]",
      "text/plain": [
       "<Figure size 360x360 with 1 Axes>"
      ]
     },
     "metadata": {
      "needs_background": "light"
     },
     "output_type": "display_data"
    }
   ],
   "source": [
    "sns.relplot(data=pod, x='County Population Density', y='Suicide Rate', ci=None,\n",
    "           color='black')"
   ]
  },
  {
   "cell_type": "code",
   "execution_count": 22,
   "id": "b240a710",
   "metadata": {},
   "outputs": [
    {
     "name": "stdout",
     "output_type": "stream",
     "text": [
      "y = -0.008040688554070996x + 13.34133366617574\n"
     ]
    },
    {
     "data": {
      "image/png": "[encoded data removed]",
      "text/plain": [
       "<Figure size 432x288 with 1 Axes>"
      ]
     },
     "metadata": {
      "needs_background": "light"
     },
     "output_type": "display_data"
    }
   ],
   "source": [
    "q = sns.regplot(data=pod[pod['County Population Density']<1000], \n",
    "           x='County Population Density', y='Suicide Rate', ci=None,\n",
    "           scatter_kws={\"color\": \"black\"}, line_kws={\"color\": \"red\"})\n",
    "\n",
    "slope, intercept, r, q, sterr = scipy.stats.linregress(x=q.get_lines()[0].get_xdata(),\n",
    "                                                       y=q.get_lines()[0].get_ydata())\n",
    "print('y = ' + str(slope) + 'x + ' + str(intercept))"
   ]
  },
  {
   "cell_type": "code",
   "execution_count": null,
   "id": "d8e09c6e",
   "metadata": {},
   "outputs": [],
   "source": []
  }
 ],
 "metadata": {
  "kernelspec": {
   "display_name": "Python 3 (ipykernel)",
   "language": "python",
   "name": "python3"
  },
  "language_info": {
   "codemirror_mode": {
    "name": "ipython",
    "version": 3
   },
   "file_extension": ".py",
   "mimetype": "text/x-python",
   "name": "python",
   "nbconvert_exporter": "python",
   "pygments_lexer": "ipython3",
   "version": "3.9.7"
  }
 },
 "nbformat": 4,
 "nbformat_minor": 5
}
